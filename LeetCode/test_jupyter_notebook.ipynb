{
    "cells": [
        {
            "cell_type": "code",
            "execution_count": 1,
            "metadata": {},
            "outputs": [
                {
                    "name": "stdout",
                    "output_type": "stream",
                    "text": [
                        "Hello World!\n"
                    ]
                }
            ],
            "source": [
                "print(\"Hello World!\")"
            ]
        },
        {
            "cell_type": "code",
            "execution_count": 2,
            "metadata": {},
            "outputs": [
                {
                    "name": "stdout",
                    "output_type": "stream",
                    "text": [
                        "Copy Paste Works Hurray!\n"
                    ]
                }
            ],
            "source": [
                "print(\"Copy Paste Works Hurray!\")"
            ]
        },
        {
            "cell_type": "markdown",
            "metadata": {},
            "source": [
                "**this is Markdown**\n",
                "- what\n",
                "- can I\n",
                "- Do\n",
                "\n",
                "I can use this to record explanation of the solution\n",
                "the time and space complexity\n",
                "resources"
            ]
        }
    ],
    "metadata": {
        "kernelspec": {
            "display_name": "Python 3",
            "language": "python",
            "name": "python3"
        },
        "language_info": {
            "codemirror_mode": {
                "name": "ipython",
                "version": 3
            },
            "file_extension": ".py",
            "mimetype": "text/x-python",
            "name": "python",
            "nbconvert_exporter": "python",
            "pygments_lexer": "ipython3",
            "version": "3.11.1"
        },
        "orig_nbformat": 4,
        "vscode": {
            "interpreter": {
                "hash": "b1d7cd447498e8e53bffe074dba15c7003e62dbac972072ea939c6c67ac5c8bd"
            }
        }
    },
    "nbformat": 4,
    "nbformat_minor": 2
}
