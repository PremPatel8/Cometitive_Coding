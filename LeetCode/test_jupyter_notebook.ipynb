{
    "cells": [
        {
            "cell_type": "code",
            "execution_count": 4,
            "source": [
                "print(\"Hello World!\")"
            ],
            "outputs": [
                {
                    "output_type": "stream",
                    "name": "stdout",
                    "text": [
                        "Hello World!\n"
                    ]
                }
            ],
            "metadata": {}
        },
        {
            "cell_type": "code",
            "execution_count": 5,
            "source": [
                "print(\"Copy Paste Works Hurray!\")"
            ],
            "outputs": [
                {
                    "output_type": "stream",
                    "name": "stdout",
                    "text": [
                        "Copy Paste Works Hurray!\n"
                    ]
                }
            ],
            "metadata": {}
        },
        {
            "cell_type": "markdown",
            "source": [
                "**this is Markdown**\r\n",
                "- what\r\n",
                "- can I\r\n",
                "- Do\r\n",
                "\r\n",
                "I can use this to record explanation of the solution\r\n",
                "the time and space complexity\r\n",
                "resources"
            ],
            "metadata": {}
        }
    ],
    "metadata": {
        "orig_nbformat": 4,
        "language_info": {
            "name": "python",
            "version": "3.9.1",
            "mimetype": "text/x-python",
            "codemirror_mode": {
                "name": "ipython",
                "version": 3
            },
            "pygments_lexer": "ipython3",
            "nbconvert_exporter": "python",
            "file_extension": ".py"
        },
        "kernelspec": {
            "name": "python3",
            "display_name": "Python 3.9.1 64-bit"
        },
        "interpreter": {
            "hash": "99fc6d9f07d462f94fbd1e663ef4eb1831011725983cc47b85e4e7eacb2f69d8"
        }
    },
    "nbformat": 4,
    "nbformat_minor": 2
}