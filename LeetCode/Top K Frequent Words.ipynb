{
    "cells": [
        {
            "cell_type": "markdown",
            "source": [
                "\r\n",
                "# Problem Name: 692. Top K Frequent Words\r\n",
                "\r\n",
                "Problem URL: [https://leetcode.com/problems/top-k-frequent-words/](https://leetcode.com/problems/top-k-frequent-words/)\r\n",
                "\r\n",
                "Problem Secton:i Bucket Sort, Heap, Trie, Hash Table, String, Sorting\r\n",
                "\r\n",
                "Problem Difficulty: Medium\r\n",
                "\r\n",
                "Problem Statement:\r\n",
                "Given an array of strings words and an integer k, return the k most frequent strings.\r\n",
                "Return the answer sorted by the frequency from highest to lowest. Sort the words with the same frequency by their lexicographical order.\r\n",
                "\r\n",
                "Follow-up: Could you solve it in O(n log(k)) time and O(n) extra space?\r\n",
                "\r\n",
                "Example 1:\r\n",
                "Input: words = [\"i\",\"love\",\"leetcode\",\"i\",\"love\",\"coding\"], k = 2\r\n",
                "Output: [\"i\",\"love\"]\r\n",
                "Explanation: \"i\" and \"love\" are the two most frequent words.\r\n",
                "Note that \"i\" comes before \"love\" due to a lower alphabetical order.\r\n",
                "\r\n",
                "Constraints:\r\n",
                "1 <= words.length <= 500\r\n",
                "1 <= words[i] <= 10\r\n",
                "words[i] consists of lowercase English letters.\r\n",
                "k is in the range [1, The number of unique words[i]]\r\n",
                "\r\n",
                "\r\n",
                "Resources:\r\n"
            ],
            "metadata": {}
        },
        {
            "cell_type": "code",
            "execution_count": 36,
            "source": [
                "from typing import List\r\n",
                "from collections import Counter\r\n",
                "# import heapq\r\n",
                "from heapq import heappush, heappop, heapify"
            ],
            "outputs": [],
            "metadata": {}
        },
        {
            "cell_type": "code",
            "execution_count": 37,
            "source": [
                "def topKFrequent(words: List[str], k: int) -> List[str]:\r\n",
                "    wordsCounts = Counter(words)\r\n",
                "    heap = []\r\n",
                "    heapify(heap)\r\n",
                "\r\n",
                "    for word, freq in wordsCounts.items():\r\n",
                "        if len(heap) < k:\r\n",
                "            heappush(heap, (freq, word))\r\n",
                "\r\n",
                "        # if len(heap) > k:\r\n",
                "        #     heappop(heap)\r\n",
                "\r\n",
                "    # print(heap)\r\n",
                "    # res = [heappop(heap) for _ in range(len(heap))]\r\n",
                "    # res = sorted(res, key=lambda key: (res[key], key))\r\n",
                "    res = [(freq, word) for freq, word in reversed(heap)]\r\n",
                "\r\n",
                "    print(heap)\r\n",
                "\r\n",
                "    temp = sorted(heap, key=lambda element: (-element[0], element[1]))\r\n",
                "\r\n",
                "    print(temp)\r\n",
                "\r\n",
                "    res = [word for freq, word in temp]\r\n",
                "\r\n",
                "    return res\r\n",
                "    \r\n",
                "\r\n",
                "# words = [\"i\",\"love\",\"leetcode\",\"i\",\"love\",\"coding\"]\r\n",
                "# k = 2\r\n",
                "# words = [\"the\",\"day\",\"is\",\"sunny\",\"the\",\"the\",\"the\",\"sunny\",\"is\",\"is\"]\r\n",
                "# k = 4\r\n",
                "\r\n",
                "\r\n",
                "words = [\"i\",\"love\",\"leetcode\",\"i\",\"love\",\"coding\"]\r\n",
                "k = 1\r\n",
                "\r\n",
                "print(topKFrequent(words, k))\r\n",
                "\r\n"
            ],
            "outputs": [
                {
                    "output_type": "stream",
                    "name": "stdout",
                    "text": [
                        "[(2, 'love')]\n",
                        "[(2, 'love')]\n",
                        "['love']\n"
                    ]
                }
            ],
            "metadata": {}
        }
    ],
    "metadata": {
        "orig_nbformat": 4,
        "language_info": {
            "name": "python",
            "version": "3.9.1",
            "mimetype": "text/x-python",
            "codemirror_mode": {
                "name": "ipython",
                "version": 3
            },
            "pygments_lexer": "ipython3",
            "nbconvert_exporter": "python",
            "file_extension": ".py"
        },
        "kernelspec": {
            "name": "python3",
            "display_name": "Python 3.9.1 64-bit"
        },
        "interpreter": {
            "hash": "99fc6d9f07d462f94fbd1e663ef4eb1831011725983cc47b85e4e7eacb2f69d8"
        }
    },
    "nbformat": 4,
    "nbformat_minor": 2
}